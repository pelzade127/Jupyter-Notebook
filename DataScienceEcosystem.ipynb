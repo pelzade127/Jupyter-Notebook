{
 "cells": [
  {
   "cell_type": "markdown",
   "id": "d26af731-0c88-41ff-978a-887ec606eba3",
   "metadata": {},
   "source": [
    "# Data Science Tools and Ecosystem"
   ]
  },
  {
   "cell_type": "markdown",
   "id": "9173752f-44f5-457b-8c4d-6c2dda37c59d",
   "metadata": {},
   "source": [
    "In this notebook, Data Science Tools and Ecosystem are summarized."
   ]
  },
  {
   "cell_type": "markdown",
   "id": "e8149620-e327-49b2-aa9c-e7b633ccf407",
   "metadata": {},
   "source": [
    "**Objectives:**\n",
    "\n",
    "- List popular languages for Data Science  \n",
    "- Identify commonly used libraries in Data Science\n",
    "- Examples of arithmetic expressions in Python  "
   ]
  },
  {
   "cell_type": "markdown",
   "id": "fd43ef7a-79c5-4ec3-ad62-e6cdf44104de",
   "metadata": {},
   "source": [
    "Some of the popular languages that Data Scientists use are:\n",
    "1. Python\n",
    "2. R\n",
    "3. SQL\n",
    "4. Scala\n",
    "5. Julia\n",
    "6. Java"
   ]
  },
  {
   "cell_type": "markdown",
   "id": "6ab2fb44-3a65-4085-a093-193e2de9e5cb",
   "metadata": {},
   "source": [
    "Some of the commonly used libraries used by Data Scientists include:\n",
    "\n",
    "1. Pandas\n",
    "2. NumPy\n",
    "3. Matplotlib\n",
    "5. TensorFlow\n"
   ]
  },
  {
   "cell_type": "markdown",
   "id": "c8275b37-0116-424e-8aa1-f9526c0bf7ab",
   "metadata": {},
   "source": [
    "| Data Science Tools |\n",
    "|--------------------|\n",
    "| Jupyter Notebook   |\n",
    "| RStudio            |\n",
    "| Apache Zeppelin    |"
   ]
  },
  {
   "cell_type": "markdown",
   "id": "7e48a16e-f607-4264-8e12-d98cd88e92be",
   "metadata": {},
   "source": [
    "### Below are a few examples of evaluating arithmetic expressions in Python.\n",
    "\n",
    "1. `3 + 5` → 8 (Addition)  \n",
    "2. `10 - 2` → 8 (Subtraction)  \n",
    "3. `4 * 7` → 28 (Multiplication)  \n",
    "4. `16 / 4` → 4.0 (Division)  \n",
    "5. `5 ** 2` → 25 (Exponentiation)  \n",
    "6. `10 % 3` → 1 (Modulus)  "
   ]
  },
  {
   "cell_type": "code",
   "execution_count": 2,
   "id": "07dfd187-532f-4b99-bd94-f784c29c6137",
   "metadata": {},
   "outputs": [
    {
     "data": {
      "text/plain": [
       "17"
      ]
     },
     "execution_count": 2,
     "metadata": {},
     "output_type": "execute_result"
    }
   ],
   "source": [
    "# This is a simple arithmetic expression to multiply then add integers.\n",
    "(3 * 4) + 5"
   ]
  },
  {
   "cell_type": "code",
   "execution_count": 3,
   "id": "9cf83743-5d07-44e0-ae0a-cb8230b3fbb1",
   "metadata": {},
   "outputs": [
    {
     "data": {
      "text/plain": [
       "3.3333333333333335"
      ]
     },
     "execution_count": 3,
     "metadata": {},
     "output_type": "execute_result"
    }
   ],
   "source": [
    "# This will convert 200 minutes to hours by dividing by 60.\n",
    "200 / 60"
   ]
  },
  {
   "cell_type": "markdown",
   "id": "a16b0e03-7c35-406c-9f36-78429feca78e",
   "metadata": {},
   "source": [
    "## Author\n",
    "\n",
    "Esther Ademuwagun"
   ]
  },
  {
   "cell_type": "code",
   "execution_count": null,
   "id": "bdfd4fc8-e5e7-4654-94c1-a05726edcce6",
   "metadata": {},
   "outputs": [],
   "source": []
  }
 ],
 "metadata": {
  "kernelspec": {
   "display_name": "Python 3 (ipykernel)",
   "language": "python",
   "name": "python3"
  },
  "language_info": {
   "codemirror_mode": {
    "name": "ipython",
    "version": 3
   },
   "file_extension": ".py",
   "mimetype": "text/x-python",
   "name": "python",
   "nbconvert_exporter": "python",
   "pygments_lexer": "ipython3",
   "version": "3.12.8"
  }
 },
 "nbformat": 4,
 "nbformat_minor": 5
}
